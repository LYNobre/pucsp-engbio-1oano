{
 "cells": [
  {
   "cell_type": "markdown",
   "metadata": {},
   "source": [
    "# Introdução à Programação\n",
    "\n",
    "## Estruturas de Repetição: For"
   ]
  },
  {
   "cell_type": "code",
   "execution_count": 10,
   "metadata": {},
   "outputs": [
    {
     "name": "stdout",
     "output_type": "stream",
     "text": [
      "Entre com um inteiro positivo: 100\n",
      "A soma de 1/k para k = 1 a  100 eh 5.187377517639621\n"
     ]
    }
   ],
   "source": [
    "# Listagem 4.1\n",
    "\n",
    "def harmonica(n):\n",
    "    # Computa a soma de 1/k para k=1 a n\n",
    "    total = 0.0\n",
    "    for k in range(1, n + 1):\n",
    "        total += 1.0/k\n",
    "        # print(\"{} {}\".format(k, 1.0/k) )\n",
    "    return total\n",
    "\n",
    "def main():\n",
    "    str_n = input('Entre com um inteiro positivo: ')\n",
    "    n = int(str_n)\n",
    "    print(\"A soma de 1/k para k = 1 a \", n, \"eh\", harmonica(n))\n",
    "\n",
    "main()"
   ]
  },
  {
   "cell_type": "markdown",
   "metadata": {},
   "source": [
    "Este programa computa a **soma harmônica**.\n",
    "\n",
    "$$1 + \\frac{1}{2} + \\frac{1}{3} + \\frac{1}{4} +\\cdots \\frac{1}{n} = \\sum_{k=1}^{n} \\frac{1}{k}$$"
   ]
  },
  {
   "cell_type": "markdown",
   "metadata": {},
   "source": [
    "# Estrutura de Repetição\n",
    "\n",
    "## For"
   ]
  },
  {
   "cell_type": "markdown",
   "metadata": {},
   "source": [
    "```\n",
    "for <variável> in <sequência>:\n",
    "  <corpo-do-loop>\n",
    "```\n",
    "\n",
    "\n",
    "Uma **sequência** em Python é um conjunto de elementos ordenados. A forma mais simples da sequência é uma **lista**, onde os elementos ficam entre colchetes.\n",
    "\n",
    "Por exemplo:\n",
    "\n",
    "```\n",
    "for i in [8, 3, 0]:\n",
    "  print(i, i ** 2)\n",
    "```\n",
    "\n",
    "irá resultar em:\n",
    "\n",
    "```\n",
    "8    64\n",
    "3    9\n",
    "0    0\n",
    "```"
   ]
  },
  {
   "cell_type": "markdown",
   "metadata": {},
   "source": [
    "# Range\n",
    "\n",
    "```\n",
    "range(stop)\n",
    "\n",
    "\n",
    "range(start, stop)\n",
    "\n",
    "\n",
    "range(start, stop, step)\n",
    "```\n",
    "\n",
    "Para ver os elementos que a função `range()` irá iterar, podemos utilizar um conversor para `list()`.\n",
    "\n",
    "```\n",
    "list(x)      # Convert x para uma lista\n",
    "```\n",
    "\n",
    "Por exemplo,\n",
    "\n",
    "```\n",
    "list(range(4)) = [0, 1, 2, 3]\n",
    "list(range(2, 4)) = [2, 3]\n",
    "list(range(2, 10, 3)) = [2, 5, 8]\n",
    "list(range(5, 2, -1)) = [5, 4, 3]\n",
    "```\n",
    "\n",
    "Note que quando o passo é `-1`, a sequência ainda *para antes* do final (*stop*) fornecido"
   ]
  },
  {
   "cell_type": "markdown",
   "metadata": {},
   "source": [
    "# Atalhos de Atribuição\n",
    "\n",
    "```\n",
    "x += y\n",
    "x -= y\n",
    "x *= y\n",
    "x /= y\n",
    "```"
   ]
  },
  {
   "cell_type": "markdown",
   "metadata": {},
   "source": [
    "# Loops de Acumulação\n",
    "\n",
    "```\n",
    "<acumulador> = <valor-inicial>\n",
    "loop:\n",
    "    <acumulador> += <quantidade-a-adicionar>\n",
    "```"
   ]
  },
  {
   "cell_type": "markdown",
   "metadata": {},
   "source": [
    "# Exercícios\n",
    "\n",
    "4.1 Use a `Listagem 4.1` para responder às seguintes questões:\n",
    "\n",
    "(a) Explique o propósito do comentário como o que é mostrado na linha 4.\n",
    "\n",
    "\n",
    "(b) Explique o uso de `n + 1` ao invés de `n` na linha 6.\n",
    "\n",
    "\n",
    "(c) Dê dois valores de teste de `n` para os quais você consegue prever facilmente o resultado. Calcule os resultados para estes casos.\n",
    "\n",
    "\n",
    "(d) Conjecture o que acontece com a soma harmônica para um `n` muito grande.\n",
    "\n",
    "\n",
    "4.2 Liste todas as variáveis usadas na `Listagem 4.1` e descreva o escopo de cada.\n",
    "\n",
    "\n",
    "4.3 Determine os elementos que serão iterados para cada uma dessas funções `range`.\n",
    "\n",
    "(a) `range(10)`\n",
    "\n",
    "\n",
    "(b) `range(5, 10)`\n",
    "\n",
    "\n",
    "(c) `range(10, 5)`\n",
    "\n",
    "\n",
    "(d) `range(3, 10, 2)`\n",
    "\n",
    "\n",
    "(e) `range(10, 0, -1)`\n",
    "\n",
    "\n",
    "(f) `range(10, 0, -2)`\n",
    "\n",
    "\n",
    "(g) `range(0, 10, -1)`\n",
    "\n",
    "\n",
    "(h) `range(0, 1, 0.1)`\n",
    "\n",
    "\n",
    "4.5 Escreva um programa chamado `citacao.py` que imprime uma citação de sua escolha exatamente $1000$ vezes. Você só necessita utilizar a função `main()`.\n",
    "\n",
    "\n",
    "\n",
    "4.6 Escreva um programa chamado `potencia.py` que imprime uma tabela de valores de $n$ e $2^n$ para $n = 1, 2, ... , 10$ Estes valores parecem familiares? Você só necessita utilizar a função `main()`.\n",
    "\n",
    "\n",
    "4.7 Escreva um programa chamado `tabela.py` que imprime uma tabela de valores de $n$, $\\log{n}$, $n\\log{n}$, $n^2$, e $2^n$ para $n = 10, 20, ...., 200$. O `log` é uma função do módulo `math`. Você só necessita utilizar a função `main()`. A função $n\\log{n}$ cresce mais que $n$ ou $n^2$? Como você descreveria o crescimento de $2^n$? E de $\\log{n}$?\n",
    "\n",
    "4.8 Escreva um programa `tabela_circulo.py`que imprime uma tabela para as áreas dos círculos de raio $r = 1, 2, ... , 10$. Use uma função de área"
   ]
  },
  {
   "cell_type": "markdown",
   "metadata": {},
   "source": [
    "# Soluções dos Exercícios"
   ]
  },
  {
   "cell_type": "markdown",
   "metadata": {},
   "source": [
    "#### Exercício 4.1\n",
    "\n",
    "(a) Comentários em programas são utilizados para que a interpretação do comando seja mais fácil e rápida. Notem que programas devem ser escritos para seres humanos entendam e não para os interpretadores e compiladores\n",
    "\n",
    "\n",
    "(b) A função `range(ini, fim)` considera as variáveis `ini` e `fim` como um intervalo semi-aberto, em que `ini` pertence ao intervalo enquanto `fim` não pertence ao intervalo. Para que o valor indicado por `fim` pertença ao intervalo da série harmônica é necessário que a função seja definida como `fim + 1`.\n",
    "\n",
    "\n",
    "(c) (Entrada: $1$, Saída: $1.0$) (Entrada: $2$, Saída: $1.5$)\n",
    "\n",
    "\n",
    "(d) TO-DO"
   ]
  },
  {
   "cell_type": "markdown",
   "metadata": {},
   "source": [
    "#### Exercício 4.2\n",
    "\n",
    "Na função `harmonica()`, as variáveis são: `n`, que é parâmetro da função; `total`, que é local (da função) do tipo `float`; e `k`, que é local.\n",
    "\n",
    "Na função `main()`, as variáveis são: `str_n`, que é local (da função); e `n`, que é local, inicialmente `string` e depois `inteiro`."
   ]
  },
  {
   "cell_type": "markdown",
   "metadata": {},
   "source": [
    "#### Exercício 4.3\n",
    "\n",
    "Considerando que cada resultado da função `range()` fosse convertido para lista, teríamos:\n",
    "\n",
    "(a) $[0,1,2,3,4,5,6,7,8,9]$\n",
    "\n",
    "(b) $[5,6,7,8,9]$\n",
    "\n",
    "(c) $[]$\n",
    "\n",
    "(d) $[3,5,7,9]$\n",
    "\n",
    "(e) $[10,9,8,7,6,5,4,3,2,1]$\n",
    "\n",
    "(f) $[10,8,6,4,2]$"
   ]
  },
  {
   "cell_type": "markdown",
   "metadata": {},
   "source": [
    "#### Exercício 4.5"
   ]
  },
  {
   "cell_type": "code",
   "execution_count": null,
   "metadata": {},
   "outputs": [],
   "source": [
    "# citacao.py\n",
    "\n",
    "def main():\n",
    "    print(\"Este programa repete uma citação de sua escolha 1000 vezes\")\n",
    "    cit = input(\"Diga algo memorável: \")\n",
    "    for c in range(1000):\n",
    "        print(cit)"
   ]
  },
  {
   "cell_type": "markdown",
   "metadata": {},
   "source": [
    "#### Exercício 4.6"
   ]
  },
  {
   "cell_type": "code",
   "execution_count": null,
   "metadata": {},
   "outputs": [],
   "source": [
    "# potencia.py\n",
    "def main():\n",
    "    print(\"Este programa imprime uma tabela de valores de n a 2^n para n = [1-10]\")\n",
    "    for n in range(10):\n",
    "        print(n, 2 ** n) \n",
    "main()\n",
    "\n",
    "\"\"\"\"\n",
    "Uau! Parece o problema da quantidade de simbolos \n",
    "que podem ser representados a partir da quantidade de bits\n",
    "\"\"\""
   ]
  },
  {
   "cell_type": "markdown",
   "metadata": {},
   "source": [
    "#### Exercício 4.7"
   ]
  },
  {
   "cell_type": "code",
   "execution_count": 19,
   "metadata": {},
   "outputs": [
    {
     "name": "stdout",
     "output_type": "stream",
     "text": [
      "n = 10\tlog(n) = 2.302585092994046\tnlog(n) = 23.02585092994046\tn^2 = 100\t2n = 20 \n",
      "n = 20\tlog(n) = 2.995732273553991\tnlog(n) = 59.914645471079815\tn^2 = 400\t2n = 40 \n",
      "n = 30\tlog(n) = 3.4011973816621555\tnlog(n) = 102.03592144986466\tn^2 = 900\t2n = 60 \n",
      "n = 40\tlog(n) = 3.6888794541139363\tnlog(n) = 147.55517816455745\tn^2 = 1600\t2n = 80 \n",
      "n = 50\tlog(n) = 3.912023005428146\tnlog(n) = 195.6011502714073\tn^2 = 2500\t2n = 100 \n",
      "n = 60\tlog(n) = 4.0943445622221\tnlog(n) = 245.66067373332604\tn^2 = 3600\t2n = 120 \n",
      "n = 70\tlog(n) = 4.248495242049359\tnlog(n) = 297.39466694345515\tn^2 = 4900\t2n = 140 \n",
      "n = 80\tlog(n) = 4.382026634673881\tnlog(n) = 350.5621307739105\tn^2 = 6400\t2n = 160 \n",
      "n = 90\tlog(n) = 4.499809670330265\tnlog(n) = 404.9828703297238\tn^2 = 8100\t2n = 180 \n",
      "n = 100\tlog(n) = 4.605170185988092\tnlog(n) = 460.51701859880916\tn^2 = 10000\t2n = 200 \n",
      "n = 110\tlog(n) = 4.700480365792417\tnlog(n) = 517.0528402371658\tn^2 = 12100\t2n = 220 \n",
      "n = 120\tlog(n) = 4.787491742782046\tnlog(n) = 574.4990091338454\tn^2 = 14400\t2n = 240 \n",
      "n = 130\tlog(n) = 4.867534450455582\tnlog(n) = 632.7794785592257\tn^2 = 16900\t2n = 260 \n",
      "n = 140\tlog(n) = 4.941642422609304\tnlog(n) = 691.8299391653026\tn^2 = 19600\t2n = 280 \n",
      "n = 150\tlog(n) = 5.0106352940962555\tnlog(n) = 751.5952941144383\tn^2 = 22500\t2n = 300 \n",
      "n = 160\tlog(n) = 5.075173815233827\tnlog(n) = 812.0278104374122\tn^2 = 25600\t2n = 320 \n",
      "n = 170\tlog(n) = 5.135798437050262\tnlog(n) = 873.0857342985446\tn^2 = 28900\t2n = 340 \n",
      "n = 180\tlog(n) = 5.19295685089021\tnlog(n) = 934.7322331602379\tn^2 = 32400\t2n = 360 \n",
      "n = 190\tlog(n) = 5.247024072160486\tnlog(n) = 996.9345737104924\tn^2 = 36100\t2n = 380 \n"
     ]
    }
   ],
   "source": [
    "# tabela.py\n",
    "from math import log\n",
    "def main():\n",
    "    for n in range(10,200,10):\n",
    "        print(\"n = %s\\tlog(n) = %s\\tnlog(n) = %s\\tn^2 = %s\\t2n = %s \" % (n, log(n), n * log(n), n ** 2, 2 * n) )\n",
    "    \n",
    "main()"
   ]
  },
  {
   "cell_type": "markdown",
   "metadata": {},
   "source": [
    "#### Exercício 4.8"
   ]
  }
 ],
 "metadata": {
  "kernelspec": {
   "display_name": "Python 3",
   "language": "python",
   "name": "python3"
  },
  "language_info": {
   "codemirror_mode": {
    "name": "ipython",
    "version": 3
   },
   "file_extension": ".py",
   "mimetype": "text/x-python",
   "name": "python",
   "nbconvert_exporter": "python",
   "pygments_lexer": "ipython3",
   "version": "3.6.4"
  }
 },
 "nbformat": 4,
 "nbformat_minor": 2
}
