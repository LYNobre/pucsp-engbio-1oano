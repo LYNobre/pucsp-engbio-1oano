{
 "cells": [
  {
   "cell_type": "markdown",
   "metadata": {},
   "source": [
    "# Introdução à Programação\n",
    "\n",
    "## Estruturas de Repetição: For"
   ]
  },
  {
   "cell_type": "code",
   "execution_count": 20,
   "metadata": {},
   "outputs": [
    {
     "name": "stdout",
     "output_type": "stream",
     "text": [
      "Entre com um inteiro positivo: 4\n",
      "1 1.0\n",
      "2 0.5\n",
      "3 0.3333333333333333\n",
      "4 0.25\n",
      "A soma de 1/k para k = 1 a  4 eh 2.083333333333333\n"
     ]
    }
   ],
   "source": [
    "# Listagem 4.1\n",
    "\n",
    "def harmonica(n):\n",
    "    # Computa a soma de 1/k para k=1 a n\n",
    "    total = 0.0\n",
    "    for k in range(1, n + 1):\n",
    "        total += 1.0/k\n",
    "        print(\"{} {}\".format(k, 1.0/k) )\n",
    "    return total\n",
    "\n",
    "def main():\n",
    "    str_n = input('Entre com um inteiro positivo: ')\n",
    "    n = int(str_n)\n",
    "    print(\"A soma de 1/k para k = 1 a \", n, \"eh\", harmonica(n))\n",
    "\n",
    "main()"
   ]
  },
  {
   "cell_type": "markdown",
   "metadata": {},
   "source": [
    "Este programa computa a **soma harmônica**.\n",
    "\n",
    "$$1 + \\frac{1}{2} + \\frac{1}{3} + \\frac{1}{4} +\\cdots \\frac{1}{n} = \\sum_{k=1}^{n} \\frac{1}{k}$$"
   ]
  },
  {
   "cell_type": "markdown",
   "metadata": {},
   "source": [
    "# Estrutura de Repetição\n",
    "\n",
    "## For"
   ]
  },
  {
   "cell_type": "markdown",
   "metadata": {},
   "source": [
    "```\n",
    "for <variável> in <sequência>:\n",
    "  <corpo-do-loop>\n",
    "```\n",
    "\n",
    "\n",
    "Uma **sequência** em Python é um conjunto de elementos ordenados. A forma mais simples da sequência é uma **lista**, onde os elementos ficam entre colchetes.\n",
    "\n",
    "Por exemplo:\n",
    "\n",
    "```\n",
    "for i in [8, 3, 0]:\n",
    "  print(i, i ** 2)\n",
    "```\n",
    "\n",
    "irá resultar em:\n",
    "\n",
    "```\n",
    "8    64\n",
    "3    9\n",
    "0    0\n",
    "```"
   ]
  },
  {
   "cell_type": "markdown",
   "metadata": {},
   "source": [
    "# Range\n",
    "\n",
    "```\n",
    "range(stop)\n",
    "\n",
    "\n",
    "range(start, stop)\n",
    "\n",
    "\n",
    "range(start, stop, step)\n",
    "```\n",
    "\n",
    "Para ver os elementos que a função `range()` irá iterar, podemos utilizar um conversor para `list()`.\n",
    "\n",
    "```\n",
    "list(x)      # Convert x para uma lista\n",
    "```\n",
    "\n",
    "Por exemplo,\n",
    "\n",
    "```\n",
    "list(range(4)) = [0, 1, 2, 3]\n",
    "list(range(2, 4)) = [2, 3]\n",
    "list(range(2, 10, 3)) = [2, 5, 8]\n",
    "list(range(5, 2, -1)) = [5, 4, 3]\n",
    "```\n",
    "\n",
    "Note que quando o passo é `-1`, a sequência ainda *para antes* do final (*stop*) fornecido"
   ]
  },
  {
   "cell_type": "markdown",
   "metadata": {},
   "source": [
    "# Atalhos de Atribuição\n",
    "\n",
    "```\n",
    "x += y\n",
    "x -= y\n",
    "x *= y\n",
    "x /= y\n",
    "```"
   ]
  },
  {
   "cell_type": "markdown",
   "metadata": {},
   "source": [
    "# Loops de Acumulação\n",
    "\n",
    "```\n",
    "<acumulador> = <valor-inicial>\n",
    "loop:\n",
    "    <acumulador> += <quantidade-a-adicionar>\n",
    "```"
   ]
  },
  {
   "cell_type": "markdown",
   "metadata": {},
   "source": [
    "# Exercícios\n",
    "\n",
    "4.1 Use a `Listagem 4.1` para responder às seguintes questões:\n",
    "\n",
    "(a) Explique o propósito do comentário como o que é mostrado na linha 4.\n",
    "\n",
    "\n",
    "(b) Explique o uso de `n + 1` ao invés de `n` na linha 6.\n",
    "\n",
    "\n",
    "(c) Dê dois valores de teste de `n` para os quais você consegue prever facilmente o resultado. Calcule os resultados para estes casos.\n",
    "\n",
    "\n",
    "(d) Conjecture o que acontece com a soma harmônica para um `n` muito grande.\n",
    "\n",
    "\n",
    "4.2 Liste todas as variáveis usadas na `Listagem 4.1` e descreva o escopo de cada.\n",
    "\n",
    "\n",
    "4.3 Determine os elementos que serão iterados para cada uma dessas funções `range`.\n",
    "\n",
    "(a) `range(10)`\n",
    "\n",
    "\n",
    "(b) `range(5, 10)`\n",
    "\n",
    "\n",
    "(c) `range(10, 5)`\n",
    "\n",
    "\n",
    "(d) `range(3, 10, 2)`\n",
    "\n",
    "\n",
    "(e) `range(10, 0, -1)`\n",
    "\n",
    "\n",
    "(f) `range(10, 0, -2)`\n",
    "\n",
    "\n",
    "(g) `range(0, 10, -1)`\n",
    "\n",
    "\n",
    "(h) `range(0, 1, 0.1)`\n",
    "\n",
    "\n",
    "4.5 Escreva um programa chamado `citacao.py` que imprime uma citação de sua escolha exatamente $1000$ vezes. Você só necessita utilizar a função `main()`.\n",
    "\n",
    "\n",
    "\n",
    "4.6 Escreva um programa chamado `potencia.py` que imprime uma tabela de valores de $n$ e $2^n$ para $n = 1, 2, ... , 10$ Estes valores parecem familiares? Você só necessita utilizar a função `main()`.\n",
    "\n",
    "\n",
    "4.7 Escreva um programa chamado `tabela.py` que imprime uma tabela de valores de $n$, $\\log{n}$, $n\\log{n}$, $n^2$, e $2^n$ para $n = 10, 20, ...., 200$. O `log` é uma função do módulo `math`. Você só necessita utilizar a função `main()`. A função $n\\log{n}$ cresce mais que $n$ ou $n^2$? Como você descreveria o crescimento de $2^n$? E de $\\log{n}$?\n",
    "\n",
    "4.8 Escreva um programa `tabela_circulo.py`que imprime uma tabela para as áreas dos círculos de raio $r = 1, 2, ... , 10$. Use uma função de área"
   ]
  },
  {
   "cell_type": "code",
   "execution_count": null,
   "metadata": {},
   "outputs": [],
   "source": []
  }
 ],
 "metadata": {
  "kernelspec": {
   "display_name": "Python 3",
   "language": "python",
   "name": "python3"
  },
  "language_info": {
   "codemirror_mode": {
    "name": "ipython",
    "version": 3
   },
   "file_extension": ".py",
   "mimetype": "text/x-python",
   "name": "python",
   "nbconvert_exporter": "python",
   "pygments_lexer": "ipython3",
   "version": "3.6.4"
  }
 },
 "nbformat": 4,
 "nbformat_minor": 2
}
