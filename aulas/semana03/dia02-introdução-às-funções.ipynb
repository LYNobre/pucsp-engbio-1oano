{
 "cells": [
  {
   "cell_type": "markdown",
   "metadata": {},
   "source": [
    "# Introdução à Programação\n",
    "\n",
    "## Funções"
   ]
  },
  {
   "cell_type": "markdown",
   "metadata": {},
   "source": [
    "# Função"
   ]
  },
  {
   "cell_type": "code",
   "execution_count": 1,
   "metadata": {},
   "outputs": [
    {
     "name": "stdout",
     "output_type": "stream",
     "text": [
      "Hipotenusa:  7.0710678118654755\n"
     ]
    }
   ],
   "source": [
    "# Listagem 3.1 - Hipotenusa\n",
    "\n",
    "from math import sqrt\n",
    "\n",
    "def myhypot(x, y):\n",
    "    return sqrt(x ** 2 + y ** 2)\n",
    "    \n",
    "def main():\n",
    "    a = float( input(\"a: \") )\n",
    "    b = float( input(\"b: \") )\n",
    "    print(\"Hipotenusa: \", myhypot(a, b) )\n",
    "    \n",
    "main()"
   ]
  },
  {
   "cell_type": "code",
   "execution_count": 2,
   "metadata": {},
   "outputs": [],
   "source": [
    "# Versão alternativa\n",
    "\n",
    "def myhypot(x, y):\n",
    "    hyp = sqrt(x ** 2 + y ** 2)\n",
    "    return hyp"
   ]
  },
  {
   "cell_type": "markdown",
   "metadata": {},
   "source": [
    "# Definindo uma função\n",
    "\n",
    "```\n",
    "def <nome-da-função>(<parâmetros>):\n",
    "  <corpo-da-função>\n",
    "```"
   ]
  },
  {
   "cell_type": "markdown",
   "metadata": {},
   "source": [
    "# Chamando uma Função\n",
    "\n",
    "```\n",
    "<nome-da-função>(<argumentos>)\n",
    "```"
   ]
  },
  {
   "cell_type": "markdown",
   "metadata": {},
   "source": [
    "# Comando de Retorno\n",
    "\n",
    "```\n",
    "return <expressão>\n",
    "```"
   ]
  },
  {
   "cell_type": "markdown",
   "metadata": {},
   "source": [
    "# Variáveis Locais\n",
    "\n",
    "=> Escopo\n",
    "\n",
    "=> A palavra-chave `global`"
   ]
  },
  {
   "cell_type": "markdown",
   "metadata": {},
   "source": [
    "# Conversões de Tipos\n",
    "\n",
    "```\n",
    "int(x)       # Converte x em um inteiro, truncando floats em 0\n",
    "int(x, b)    # Converte x dado uma base b em inteiro\n",
    "float(x)     # Converte x em um ponto flutuante\n",
    "str(x)       # Converte x em uma string (texto)\n",
    "```"
   ]
  },
  {
   "cell_type": "markdown",
   "metadata": {},
   "source": [
    "# Exercícios\n",
    "\n",
    "\n",
    "3.1 Use a Listagem 3.1 para a responder às seguintes questões:\n",
    "\n",
    "(a) Descreva em suas próprias palavras a subtarefa que a função `myhypot()` realiza.\n",
    "\n",
    "\n",
    "(b) Qual(is) linha(s) de código define o corpo da função `main()`?\n",
    "\n",
    "\n",
    "(c) Existe um retorno dentro da função `main()` e qual valor a função retorna?\n",
    "\n",
    "(d) Descreva o resultado se a linha 6 da Listagem 3.1 for substituída pela linha:\n",
    "\n",
    "```\n",
    "hyp = sqrt(x ** 2 + y ** 2)\n",
    "```\n",
    "\n",
    "Explique o comportamento que você observar.\n",
    "\n",
    "[Ver a solução do exercício 3.1](#Exercício-3.1)\n",
    "\n",
    "\n",
    "3.3 A versão alternativa da função `myhypot()` contém variáveis locais? Em caso positivo, identifique-as; caso contrário, explique porque não.\n",
    "\n",
    "[Ver a solução do exercício 3.3](#Exercício-3.3)\n",
    "\n",
    "3.5 Modifique a Listagem 3.1 para chamar `myhypot(a, b)` antes do comando `print()` armazenando o resultado em uma variável local, e então, usar a variável local no comando `print()`. Discuta os prós e contras dessa nova abordagem.\n",
    "\n",
    "[Ver a solução do exercício 3.5](#Exercício-3.5)\n",
    "\n",
    "3.6 Considere a Listagem 1.1 e sua extensão para incluir uma circunferência no Exercício 1.2. Rescreva a versão do `circle.py` para pedir ao usuário por radianos e use três funções: `area()`; `circunferencia()`; e a `main()`.\n",
    "\n",
    "[Ver a solução do exercício 3.6](#Exercício-3.6)\n",
    "\n",
    "3.7 Reescreva o Exercício 2.9 para pedir ao usuário entrada de valores e que use duas funções: uma para computar a média e uma outra para a função `main()`.\n",
    "\n",
    "[Ver a solução do exercício 3.7](#Exercício-3.7)\n",
    "\n",
    "3.13 Escreva um programa `temp.py` que peça ao usuário por uma temperatura em Fahrenheit e então calcule e imprima a temperatura correspondente em Celsius. Use uma função para fazer a conversão.\n",
    "\n",
    "[Ver a solução do exercício 3.13](#Exercício-3.13)\n",
    "\n",
    "3.14 Modifique o exercício anterior para também computar e mostrar a temperatura equivalente em Kelvin. Use uma outra função de conversão (ou duas).\n",
    "\n",
    "[Ver a solução do exercício 3.14](#Exercício-3.14)\n",
    "\n",
    "3.15 Escreva um programa `heart.py` que peça ao usuário sua idade em anos (*y*) e então estime seu batimento cardíaco máximo em batidas por minuto, usando a fórmula $208 - 0.7y$. Use funções apropriadas.\n",
    "\n",
    "[Ver a solução do exercício 3.15](#Exercício-3.15)\n",
    "\n",
    "3.16 Escreva um programa `heron.py` que peça ao usuário pelos lados de um triângulo ($a$, $b$, $c$) e então compute a área de um triângulo utilizando a fórmula de Heron (Procure a fórmula se não se lembrar). Utilize funções apropriadas.\n",
    "\n",
    "[Ver a solução do exercício 3.16](#Exercício-3.16)\n",
    "\n",
    "3.17 Escreva um programa `interest.py` que calcule o novo saldo de uma conta poupança se os juros forem computados anualmente. Peça ao usuário pelo valor do principal, taxa de juros, e número de anos, e então mostre o novo saldo. Use a fórmula: $P(1 + r)^t$ e use funções apropriadas. Entre com a taxa de juros como decimais: por exemplo, uma taxa de 4% deve ser colocada como 0.04. Use seu programa para determinar o número de anos que se leva para dobrar o valor do principal com uma taxa de juros de 1.5% ao ano.\n",
    "\n",
    "\n",
    "[Ver a solução do exercício 3.17](#Exercício-3.17)"
   ]
  },
  {
   "cell_type": "markdown",
   "metadata": {},
   "source": [
    "# Solução dos Exercícios"
   ]
  },
  {
   "cell_type": "markdown",
   "metadata": {},
   "source": [
    "##### Exercício 3.1\n",
    "\n",
    "(a)\n",
    "\n",
    "A função `myhypot(a,b)` calcula o valor da hipotenusa, a partir de dois catetos\n",
    "\n",
    "(b)\n",
    "\n",
    "O corpo da função `main()` é definido pelos seguintes comandos:\n",
    "\n",
    "```\n",
    "a = float( input(\"a: \") )\n",
    "b = float( input(\"b: \") )\n",
    "print(\"Hipotenusa: \", myhypot(a, b) )\n",
    "```\n",
    "\n",
    "(c)\n",
    "\n",
    "Não existe retorno explicitamente declarado. Nesses casos, as funções Python retornam o valor `None`, que indicam que o valor de retorno é nulo.\n",
    "\n",
    "(d)\n",
    "\n",
    "A linha que realizada a chamada da função `main()` é:\n",
    "\n",
    "```\n",
    "main()\n",
    "```\n",
    "\n",
    "Se essa linha fosse deletada, o programa não executaria nenhuma das funções declaradas e terminaria em seguida"
   ]
  },
  {
   "cell_type": "markdown",
   "metadata": {},
   "source": [
    "##### Exercício 3.3\n",
    "\n",
    "Sim. A variável `hyp` é uma variável local."
   ]
  },
  {
   "cell_type": "markdown",
   "metadata": {},
   "source": [
    "##### Exercício 3.5\n",
    "\n",
    "Nesse caso, a linha a seguir:\n",
    "\n",
    "```\n",
    "print(\"Hipotenusa: \", myhypot(a, b) )\n",
    "```\n",
    "\n",
    "Deverá ser substituída por:\n",
    "\n",
    "```\n",
    "hyp = myhypot(a, b)\n",
    "print(\"Hipotenusa: \", hyp )\n",
    "```\n",
    "\n",
    "A vantagem é que o programa fica mais legível (legibilidade). No entanto, é necessário escrever mais linhas de código (verbosidade)."
   ]
  },
  {
   "cell_type": "markdown",
   "metadata": {},
   "source": [
    "##### Exercício 3.6"
   ]
  },
  {
   "cell_type": "code",
   "execution_count": null,
   "metadata": {},
   "outputs": [],
   "source": [
    "# circle.py\n",
    "# O exercício 1.2 pedia para computar e mostrar a circunferência de um círculo\n",
    "\n",
    "from math import pi\n",
    "\n",
    "def obter_area(raio):\n",
    "    area = pi * raio ** 2\n",
    "    return area\n",
    "\n",
    "def obter_circunferencia(raio):\n",
    "    return 2 * pi * raio \n",
    "\n",
    "def main():\n",
    "    print(\"Este programa calcula a área e circunferência de um círculo\")\n",
    "    raio = input(\"Entre com o raio de um círculo: \")\n",
    "    \n",
    "    # a variável raio deve ser convertida para um formato numérico\n",
    "    raio = float(raio)\n",
    "    \n",
    "    area = obter_area(raio)\n",
    "    circ = obter_circunferencia(raio)\n",
    "    \n",
    "    print(\"A circunferência desse círculo é %s e a aŕea é %s \" % (area, circ))\n",
    "    \n",
    "main()"
   ]
  },
  {
   "cell_type": "markdown",
   "metadata": {},
   "source": [
    "##### Exercício 3.7"
   ]
  },
  {
   "cell_type": "code",
   "execution_count": null,
   "metadata": {},
   "outputs": [],
   "source": [
    "def media(n1, n2):\n",
    "    # Lembre-se de converter um dos termos para float\n",
    "    return (n1 + n2) / 2\n",
    "\n",
    "def main():\n",
    "    print(\"Este programa calcula a média entre dois números\")\n",
    "    num1 = input(\"Entre com o primeiro número: \")\n",
    "    num2 = input(\"Entre com o segundo número: \")\n",
    "\n",
    "    # Lembrar de converter os números\n",
    "    num1 = float(num1)\n",
    "    num2 = float(num2)\n",
    "\n",
    "    # Chamada de função média\n",
    "    m = media(num1, num2)\n",
    "    print(\"A média entre esses números é: \", m)\n",
    "\n",
    "# Chamada da função principal\n",
    "main()"
   ]
  },
  {
   "cell_type": "markdown",
   "metadata": {},
   "source": [
    "##### Exercício 3.13"
   ]
  },
  {
   "cell_type": "code",
   "execution_count": null,
   "metadata": {},
   "outputs": [],
   "source": [
    "# temp.py\n",
    "def fahrenheit2celsius(tempF):\n",
    "    return (tempF - 32) * (5.0 / 9) # <--Um dos termos da divisão deve ser float\n",
    "\n",
    "def main():\n",
    "    print(\"Este programa converte temperaturas em Fahrenheit para Celsius\")\n",
    "    tempF = input(\"Entre com um valor em Farenheit: \")\n",
    "    tempF = float(tempF)\n",
    "    print(\"O valor da temperatura em Celsius eh: %s \" % fahrenheit2celsius(tempF) )\n",
    "\n",
    "main()"
   ]
  },
  {
   "cell_type": "markdown",
   "metadata": {},
   "source": [
    "##### Exercício 3.14"
   ]
  },
  {
   "cell_type": "code",
   "execution_count": null,
   "metadata": {},
   "outputs": [],
   "source": [
    "def fahrenheit2celsius(tempF):\n",
    "    return (tempF - 32) * 5.0/9 # <--Um dos termos da divisão deve ser float\n",
    "\n",
    "def fahrenheit2kelvin(tempF):\n",
    "    return fahrenheit2celsius(tempF) + 273.15\n",
    "\n",
    "def main():\n",
    "    print(\"Este programa converte temperaturas em Fahrenheit para Celsius e Kelvin\")\n",
    "    tempF = input(\"Entre com um valor em Farenheit: \")\n",
    "    tempF = float(tempF)\n",
    "    print(\"O valor da temperatura em Celsius eh: %s \" % fahrenheit2celsius(tempF) )\n",
    "    print(\"O valor da temperatura em Kelvin eh: %s \" % fahrenheit2kelvin(tempF) )\n",
    "\n",
    "main()"
   ]
  },
  {
   "cell_type": "markdown",
   "metadata": {},
   "source": [
    "##### Exercício 3.15"
   ]
  },
  {
   "cell_type": "code",
   "execution_count": null,
   "metadata": {},
   "outputs": [],
   "source": [
    "# heart.py\n",
    "# Calcula a quantidade de batimentos a partir da idade\n",
    "def batimentos(idade):\n",
    "    return 208 - 0.7 * idade\n",
    "\n",
    "# Função principal\n",
    "def main():\n",
    "    print(\"Este programa calcula o batimento cardíaco em minutos a partir da idade\")\n",
    "    idade = input(\"Entre com sua idade: \")\n",
    "\n",
    "    # este programa considera a idade como fração\n",
    "    idade = float(idade)\n",
    "    bat = batimentos(idade)\n",
    "    print(\"A estimativa de batimentos por minuto para uma pessoa de %s anos é %s\" % (idade, bat))\n",
    "\n",
    "main()"
   ]
  },
  {
   "cell_type": "markdown",
   "metadata": {},
   "source": [
    "##### Exercício 3.16"
   ]
  },
  {
   "cell_type": "code",
   "execution_count": null,
   "metadata": {},
   "outputs": [],
   "source": [
    "# heron.py\n",
    "\n",
    "from math import sqrt\n",
    "\n",
    "def heron(a,b,c):\n",
    "    p = (a + b + c) / 2\n",
    "    return sqrt( p * (p - a) * (p - b) * (p - c)  )\n",
    "\n",
    "def main():\n",
    "    print(\"Este programa calcula a área de um triângulo utilizando o teorema de Herão\")\n",
    "    a = input(\"Entre com o 1o lado do triângulo\")\n",
    "    b = input(\"Entre com o 2o lado do triângulo\")\n",
    "    c = input(\"Entre com o 3o lado do triângulo\")\n",
    "\n",
    "    # Converte os valores para float\n",
    "    a, b, c = float(a), float(b), float(c)\n",
    "    area = heron(a,b,c)\n",
    "    print(\"A área do triângulo é %s\" % (area) )\n",
    "\n",
    "main()"
   ]
  },
  {
   "cell_type": "markdown",
   "metadata": {},
   "source": [
    "##### Exercício 3.17"
   ]
  },
  {
   "cell_type": "code",
   "execution_count": null,
   "metadata": {},
   "outputs": [],
   "source": [
    "# interest.py\n",
    "\n",
    "def calcular_saldo(p, r, t):\n",
    "    return p * (1 + r) ** t\n",
    "    \n",
    "def main():\n",
    "    # refere-se ao principal (p)\n",
    "    p = float( input(\"Entre com o valor do principal: \") )\n",
    "    \n",
    "    # refere-se à taxa de juros (em inglês, interest rate)\n",
    "    r = float( input(\"Entre com o valor dos juros: \") )\n",
    "    \n",
    "    # refere-se ao número de anos, ou tempo (t)\n",
    "    t = float( input(\"Entre com um tempo em anos: \") )\n",
    "    \n",
    "    str_saldo = calcular_saldo(p, r, t)\n",
    "    print(\"O novo saldo em sua conta poupança será de : {0:.2f}\".format(str_saldo))\n",
    "    \n",
    "main()"
   ]
  }
 ],
 "metadata": {
  "kernelspec": {
   "display_name": "Python 3",
   "language": "python",
   "name": "python3"
  },
  "language_info": {
   "codemirror_mode": {
    "name": "ipython",
    "version": 3
   },
   "file_extension": ".py",
   "mimetype": "text/x-python",
   "name": "python",
   "nbconvert_exporter": "python",
   "pygments_lexer": "ipython3",
   "version": "3.6.4"
  }
 },
 "nbformat": 4,
 "nbformat_minor": 2
}
