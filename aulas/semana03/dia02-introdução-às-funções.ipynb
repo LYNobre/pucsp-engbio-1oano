{
 "cells": [
  {
   "cell_type": "markdown",
   "metadata": {},
   "source": [
    "# Introdução à Programação\n",
    "\n",
    "## Funções"
   ]
  },
  {
   "cell_type": "markdown",
   "metadata": {},
   "source": [
    "# Função"
   ]
  },
  {
   "cell_type": "code",
   "execution_count": null,
   "metadata": {},
   "outputs": [],
   "source": [
    "# Listagem 3.1 - Hipotenusa\n",
    "\n",
    "from math import sqrt\n",
    "\n",
    "def myhypot(x, y):\n",
    "    return sqrt(x ** 2 + y ** 2)\n",
    "    \n",
    "def main():\n",
    "    a = float( input(\"a: \") )\n",
    "    b = float( input(\"b: \") )\n",
    "    print(\"Hipotenusa: \", myhypot(a, b) )\n",
    "    \n",
    "main()"
   ]
  },
  {
   "cell_type": "code",
   "execution_count": null,
   "metadata": {},
   "outputs": [],
   "source": [
    "# Versão alternativa\n",
    "\n",
    "def myhypot(x, y):\n",
    "    hyp = sqrt(x ** 2 + y ** 2)\n",
    "    return hyp"
   ]
  },
  {
   "cell_type": "markdown",
   "metadata": {},
   "source": [
    "# Definindo uma função\n",
    "\n",
    "```\n",
    "def <nome-da-função>(<parâmetros>):\n",
    "  <body>\n",
    "```"
   ]
  },
  {
   "cell_type": "markdown",
   "metadata": {},
   "source": [
    "# Chamando uma Função\n",
    "\n",
    "```\n",
    "<nome-da-função>(<argumentos>)\n",
    "```"
   ]
  },
  {
   "cell_type": "markdown",
   "metadata": {},
   "source": [
    "# Comando de Retorno\n",
    "\n",
    "```\n",
    "return <expressão>\n",
    "```"
   ]
  },
  {
   "cell_type": "markdown",
   "metadata": {},
   "source": [
    "# Variáveis Locais\n",
    "\n",
    "=> Escopo\n",
    "\n",
    "=> A palavra-chave `global`"
   ]
  },
  {
   "cell_type": "markdown",
   "metadata": {},
   "source": [
    "# Conversões de Tipos\n",
    "\n",
    "```\n",
    "int(x)       # Converte x em um inteiro, truncando floats em 0\n",
    "int(x, b)    # Converte x dado uma base b em inteiro\n",
    "float(x)     # Converte x em um ponto flutuante\n",
    "str(x)       # Converte x em uma string (texto)\n",
    "```"
   ]
  },
  {
   "cell_type": "markdown",
   "metadata": {},
   "source": [
    "# Exercícios\n",
    "\n",
    "\n",
    "3.1 Use a Listagem 3.1 para a responder às seguintes questões:\n",
    "\n",
    "(a) Descreva em suas próprias palavras a subtarefa que a função `myhypot()` realiza.\n",
    "\n",
    "\n",
    "(b) Qual(is) linha(s) de código define o corpo da função `main()`?\n",
    "\n",
    "\n",
    "(c) Existe um retorno dentro da função `main()` e qual valor a função retorna?\n",
    "\n",
    "(d) Descreva o resultado se a linha 6 da Listagem 3.1 for substituída pela linha:\n",
    "\n",
    "```\n",
    "hyp = sqrt(x ** 2 + y ** 2)\n",
    "```\n",
    "\n",
    "Explique o comportamento que você observar.\n",
    "\n",
    "\n",
    "3.3 A versão alternativa da função `myhypot()` contém variáveis locais? Em caso positivo, identifique-as; caso contrário, explique porque não.\n",
    "\n",
    "\n",
    "3.5 Modifique a Listagem 3.1 para chamar `myhypot(a, b)` antes do comando `print()` armazenando o resultado em uma variável local, e então, usar a variável local no comando `print()`. Discuta os prós e contras dessa nova abordagem.\n",
    "\n",
    "\n",
    "3.6 Considere a Listagem 1.1 e sua extensão para incluir uma circunferência no Exercício 1.2. Rescreva a versão do `circle.py` para pedir ao usuário por radianos e use três funções: `area()`; `circunferencia()`; e a `main()`.\n",
    "\n",
    "\n",
    "3.7 Reescreva o exercício 2.9 para pedir ao usuário entrada de valores e que use duas funções: uma para computar a média e uma outra para a função `main()`:\n"
   ]
  }
 ],
 "metadata": {
  "kernelspec": {
   "display_name": "Python 3",
   "language": "python",
   "name": "python3"
  },
  "language_info": {
   "codemirror_mode": {
    "name": "ipython",
    "version": 3
   },
   "file_extension": ".py",
   "mimetype": "text/x-python",
   "name": "python",
   "nbconvert_exporter": "python",
   "pygments_lexer": "ipython3",
   "version": "3.6.4"
  }
 },
 "nbformat": 4,
 "nbformat_minor": 2
}
