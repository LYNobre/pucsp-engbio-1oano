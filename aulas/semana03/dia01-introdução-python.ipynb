{
 "cells": [
  {
   "cell_type": "markdown",
   "metadata": {},
   "source": [
    "# Introdução à Programação\n",
    "\n",
    "## Componentes do Python"
   ]
  },
  {
   "cell_type": "markdown",
   "metadata": {},
   "source": [
    "# Um Programa Python"
   ]
  },
  {
   "cell_type": "code",
   "execution_count": null,
   "metadata": {},
   "outputs": [],
   "source": [
    "# Listagem 1.1\n",
    "\n",
    "from math import pi\n",
    "r = 11\n",
    "area = pi * r ** 2\n",
    "print(\"A area de um circulo com raio\", r, \"eh\", area)"
   ]
  },
  {
   "cell_type": "code",
   "execution_count": null,
   "metadata": {},
   "outputs": [],
   "source": [
    "# Listagem 2.1\n",
    "# Seu nome\n",
    "\n",
    "adjetivo = input(\"Entre com um adjetivo: \")\n",
    "substantivo = input(\"Entre com um substantivo: \")\n",
    "verbo = input(\"Entre com um verbo: \")\n",
    "adverbio = input(\"Entre com um adverbio: \")\n",
    "\n",
    "print(\"Um \", substantivo, adjetivo, \" nunca deveria \", verbo, adverbio )"
   ]
  },
  {
   "cell_type": "markdown",
   "metadata": {},
   "source": [
    "# Variáveis\n",
    "\n",
    "Todo programa realiza tarefas manipulando dados. **Variáveis** são nomes que se referem aos dados em memória. Nomes de variáveis são também conhecidos como *identificadores* em Python e podem conter caracteres alfabéticos, o *underscore* (_), e, exceto pelo primeiro caracter, os digítos 0-9."
   ]
  },
  {
   "cell_type": "markdown",
   "metadata": {},
   "source": [
    "# Comando de atribuição\n",
    "\n",
    "Comandos de atribuição são utilizados para dar variáveis um valor. A sintaxe do comando de atribuição em Python é a seguinte:\n",
    "\n",
    "```\n",
    "<variável> = <expressão>\n",
    "```\n",
    "\n",
    "A leitura de comandos de atribuição é da direita para a esquerda:\n",
    "\n",
    "1. Avalie a expressão à direita\n",
    "\n",
    "2. Atribua o valor da expressão no local à esquerda com este valor"
   ]
  },
  {
   "cell_type": "markdown",
   "metadata": {},
   "source": [
    "# Comandos de Impressão\n",
    "\n",
    "Comandos de impressão são utilizados para produzir a saída de programas. A sintaxe do comando `print()` é:\n",
    "\n",
    "```\n",
    "print(<expressão1>, <expressão2>,...)\n",
    "```"
   ]
  },
  {
   "cell_type": "markdown",
   "metadata": {},
   "source": [
    "# Comandos de Importação\n",
    "\n",
    "Comandos de importação são utilizados para acessar bibliotecas de funções or de dados, como por exemplo na primeira linha da `Listagem 1.1`. A biblioteca padrão do Python consiste de muitos *módulos*, cada qual adicionando uma funcionalidade específica. O comando:\n",
    "\n",
    "```\n",
    "from <módulo> import <nome1>, <nome2>, ...\n",
    "```\n",
    "\n",
    "permite que os nomes listados sejam usados em seu programa."
   ]
  },
  {
   "cell_type": "markdown",
   "metadata": {},
   "source": [
    "# Tipos de Dados\n",
    "\n",
    "A `Listagem 1.1` e `2.1` usam três tipos diferentes de tipos de dados\n",
    "\n",
    "## Strings\n",
    "\n",
    "São sequências de caracteres dentro de aspas simples ou duplas, como por exemplo:\n",
    "\n",
    "```\n",
    "\"Hello World\"\n",
    "```\n",
    "\n",
    "## Integers\n",
    "\n",
    "São números inteiros como 847, -19 ou 7.\n",
    "\n",
    "## Floats\n",
    "\n",
    "Ponto flutuantes (*Floating Point*) são valores   que utilizam o ponto decimal e portanto pode ter frações. Por exemplo, 3.7 e -23.8 são considerados floats porque possuem um ponto decimal"
   ]
  },
  {
   "cell_type": "markdown",
   "metadata": {},
   "source": [
    "# Expressões\n",
    "\n",
    "Todo lado direito de um comando de atribuição deve ser uma expressão, que em Python, é qualquer coisa que retorne um valor"
   ]
  },
  {
   "cell_type": "markdown",
   "metadata": {},
   "source": [
    "## Comentários\n",
    "\n",
    "Começam com um cerquilha (atualmente mais conhecido como *hash tag*) e significa que o interpretador irá ignorá-lo completamente"
   ]
  },
  {
   "cell_type": "markdown",
   "metadata": {},
   "source": [
    "# Exercícios\n",
    "\n",
    "\n",
    "2.1. Dê tres nomes que não são nomes de identificadores legais em Python\n",
    "\n",
    "\n",
    "2.2. Use a Listagem 1.1 para:\n",
    "\n",
    "(a) Listar cada variável e dar o tipo de dados armazenado nela. (Dica: pi é uma constante)\n",
    "\n",
    "\n",
    "(b) Identificar os comandos de atribuição e explicar o efeito de cada comando.\n",
    "\n",
    "\n",
    "2.3 Determinar a saida da Listagem 1.1 se o comando `print()` for alterado para:\n",
    "\n",
    "`print(\"A area do circulo com raio r eh area\")`\n",
    "\n",
    "Explique o resultado\n",
    "\n",
    "\n",
    "2.4 Use a Listagem 2.1 para:\n",
    "\n",
    "(a) Listar cada comando de atribuição e identificar a variável cujo conteúdo mudam\n",
    "\n",
    "(b) Descrever o que acontece se o espaço final em qualquer dos comandos de entrada for deletado\n",
    "\n",
    "\n",
    "2.5 Determinar o valor de cada uma dessas expressões Python:\n",
    "\n",
    "(a) `1 + 2 * 3 - 4 * 5 + 6`\n",
    "\n",
    "\n",
    "(b) `1 + 2 ** 3 * 4 - 5`\n",
    "\n",
    "\n",
    "(c) `1 / 2 - 3 / 4`\n",
    "\n",
    "\n",
    "(d) `1 // 2 - 3 // 4 + 5 // 6`\n",
    "\n",
    "\n",
    "(e) `1 + 4 - 2 / 2`\n",
    "\n",
    "\n",
    "(f) `(1 + 4 - 2) / 2`\n",
    "\n",
    "\n",
    "2.6 Determine a saída de cada um dos fragmentos de código:\n",
    "\n",
    "(a)\n",
    "```\n",
    "x = 10\n",
    "y = 15\n",
    "print(x, y)\n",
    "y = x\n",
    "print(x, y)\n",
    "x = 5\n",
    "print(x, y)\n",
    "```\n",
    "\n",
    "(b)\n",
    "```\n",
    "x = 10\n",
    "y = 15\n",
    "print(x, y)\n",
    "y = x\n",
    "x = y\n",
    "print(x, y)\n",
    "x = 5\n",
    "print(x, y)\n",
    "```\n",
    "\n",
    "(c)\n",
    "```\n",
    "x = 10\n",
    "y = 15\n",
    "z = 20\n",
    "x = z\n",
    "z = y\n",
    "y = x\n",
    "print(x, y, z)\n",
    "```\n",
    "\n",
    "2.9\n",
    "Modifique a Listagem 1.1 para escrever um programa media.py que calcule e imprima a média entre dois números.\n",
    "\n",
    "2.10\n",
    "Modique a Listagem 1.1 para escrever um programa rect.py que calcule e imprima a área e o perímetro de um dado retângulo dado sua largura e comprimento. Rode o programa com diferentes valores de comprimento e largura para testá-lo.\n",
    "\n",
    "2.11\n",
    "Modique a Listagem 1.1 para escrever um programa cubo.py que calcula e imprime o volume e área da superfície de um cubo dadas suas dimensões. Rode seu programa com diferentes valores de comprimento até quando o volume for igual à superfície"
   ]
  },
  {
   "cell_type": "code",
   "execution_count": null,
   "metadata": {},
   "outputs": [],
   "source": []
  }
 ],
 "metadata": {
  "kernelspec": {
   "display_name": "Python 3",
   "language": "python",
   "name": "python3"
  },
  "language_info": {
   "codemirror_mode": {
    "name": "ipython",
    "version": 3
   },
   "file_extension": ".py",
   "mimetype": "text/x-python",
   "name": "python",
   "nbconvert_exporter": "python",
   "pygments_lexer": "ipython3",
   "version": "3.6.4"
  }
 },
 "nbformat": 4,
 "nbformat_minor": 2
}
