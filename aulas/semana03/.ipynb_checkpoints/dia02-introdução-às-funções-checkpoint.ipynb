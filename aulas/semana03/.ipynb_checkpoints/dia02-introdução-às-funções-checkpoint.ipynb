{
 "cells": [
  {
   "cell_type": "markdown",
   "metadata": {},
   "source": [
    "# Introdução à Programação\n",
    "\n",
    "## Funções"
   ]
  },
  {
   "cell_type": "markdown",
   "metadata": {},
   "source": [
    "# Função"
   ]
  },
  {
   "cell_type": "code",
   "execution_count": 1,
   "metadata": {},
   "outputs": [
    {
     "name": "stdout",
     "output_type": "stream",
     "text": [
      "Hipotenusa:  7.0710678118654755\n"
     ]
    }
   ],
   "source": [
    "# Listagem 3.1 - Hipotenusa\n",
    "\n",
    "from math import sqrt\n",
    "\n",
    "def myhypot(x, y):\n",
    "    return sqrt(x ** 2 + y ** 2)\n",
    "    \n",
    "def main():\n",
    "    a = float( input(\"a: \") )\n",
    "    b = float( input(\"b: \") )\n",
    "    print(\"Hipotenusa: \", myhypot(a, b) )\n",
    "    \n",
    "main()"
   ]
  },
  {
   "cell_type": "code",
   "execution_count": 2,
   "metadata": {},
   "outputs": [],
   "source": [
    "# Versão alternativa\n",
    "\n",
    "def myhypot(x, y):\n",
    "    hyp = sqrt(x ** 2 + y ** 2)\n",
    "    return hyp"
   ]
  },
  {
   "cell_type": "markdown",
   "metadata": {},
   "source": [
    "# Definindo uma função\n",
    "\n",
    "```\n",
    "def <nome-da-função>(<parâmetros>):\n",
    "  <corpo-da-função>\n",
    "```"
   ]
  },
  {
   "cell_type": "markdown",
   "metadata": {},
   "source": [
    "# Chamando uma Função\n",
    "\n",
    "```\n",
    "<nome-da-função>(<argumentos>)\n",
    "```"
   ]
  },
  {
   "cell_type": "markdown",
   "metadata": {},
   "source": [
    "# Comando de Retorno\n",
    "\n",
    "```\n",
    "return <expressão>\n",
    "```"
   ]
  },
  {
   "cell_type": "markdown",
   "metadata": {},
   "source": [
    "# Variáveis Locais\n",
    "\n",
    "=> Escopo\n",
    "\n",
    "=> A palavra-chave `global`"
   ]
  },
  {
   "cell_type": "markdown",
   "metadata": {},
   "source": [
    "# Conversões de Tipos\n",
    "\n",
    "```\n",
    "int(x)       # Converte x em um inteiro, truncando floats em 0\n",
    "int(x, b)    # Converte x dado uma base b em inteiro\n",
    "float(x)     # Converte x em um ponto flutuante\n",
    "str(x)       # Converte x em uma string (texto)\n",
    "```"
   ]
  },
  {
   "cell_type": "markdown",
   "metadata": {},
   "source": [
    "# Exercícios\n",
    "\n",
    "\n",
    "3.1 Use a Listagem 3.1 para a responder às seguintes questões:\n",
    "\n",
    "(a) Descreva em suas próprias palavras a subtarefa que a função `myhypot()` realiza.\n",
    "\n",
    "\n",
    "(b) Qual(is) linha(s) de código define o corpo da função `main()`?\n",
    "\n",
    "\n",
    "(c) Existe um retorno dentro da função `main()` e qual valor a função retorna?\n",
    "\n",
    "(d) Descreva o resultado se a linha 6 da Listagem 3.1 for substituída pela linha:\n",
    "\n",
    "```\n",
    "hyp = sqrt(x ** 2 + y ** 2)\n",
    "```\n",
    "\n",
    "Explique o comportamento que você observar.\n",
    "\n",
    "\n",
    "3.3 A versão alternativa da função `myhypot()` contém variáveis locais? Em caso positivo, identifique-as; caso contrário, explique porque não.\n",
    "\n",
    "\n",
    "3.5 Modifique a Listagem 3.1 para chamar `myhypot(a, b)` antes do comando `print()` armazenando o resultado em uma variável local, e então, usar a variável local no comando `print()`. Discuta os prós e contras dessa nova abordagem.\n",
    "\n",
    "\n",
    "3.6 Considere a Listagem 1.1 e sua extensão para incluir uma circunferência no Exercício 1.2. Rescreva a versão do `circle.py` para pedir ao usuário por radianos e use três funções: `area()`; `circunferencia()`; e a `main()`.\n",
    "\n",
    "\n",
    "3.7 Reescreva o Exercício 2.9 para pedir ao usuário entrada de valores e que use duas funções: uma para computar a média e uma outra para a função `main()`.\n",
    "\n",
    "\n",
    "3.13 Escreva um programa `temp.py` que peça ao usuário por uma temperatura em Fahrenheit e então calcule e imprima a temperatura correspondente em Celsius. Use uma função para fazer a conversão.\n",
    "\n",
    "\n",
    "3.14 Modifique o exercício anterior para também computar e mostrar a temperatura equivalente em Kelvin. Use uma outra função de conversão (ou duas).\n",
    "\n",
    "\n",
    "3.15 Escreva um programa `heart.py` que peça ao usuário sua idade em anos (*y*) e então estime seu batimento cardíaco máximo em batidas por minuto, usando a fórmula $208 - 0.7y$. Use funções apropriadas.\n",
    "\n",
    "\n",
    "3.16 Escreva um programa `heron.py` que peça ao usuário pelos lados de um triângulo ($a$, $b$, $c$) e então compute a área de um triângulo utilizando a fórmula de Heron (Procure a fórmula se não se lembrar). Utilize funções apropriadas.\n",
    "\n",
    "\n",
    "3.17 Escreva um programa `interest.py` que calcule o novo saldo de uma conta poupança se os juros forem computados anualmente. Peça ao usuário pelo valor do principal, taxa de juros, e número de anos, e então mostre o novo saldo. Use a fórmula: $P(1 + r)^t$ e use funções apropriadas.\n",
    "\n",
    "Entre com a taxa de juros como decimais: por exemplo, uma taxa de 4% deve ser colocada como 0.04. Use seu programa para determinar o número de anos que se leva para dobrar o valor do principal com uma taxa de juros de 1.5% ao ano."
   ]
  }
 ],
 "metadata": {
  "kernelspec": {
   "display_name": "Python 3",
   "language": "python",
   "name": "python3"
  },
  "language_info": {
   "codemirror_mode": {
    "name": "ipython",
    "version": 3
   },
   "file_extension": ".py",
   "mimetype": "text/x-python",
   "name": "python",
   "nbconvert_exporter": "python",
   "pygments_lexer": "ipython3",
   "version": "3.6.4"
  }
 },
 "nbformat": 4,
 "nbformat_minor": 2
}
