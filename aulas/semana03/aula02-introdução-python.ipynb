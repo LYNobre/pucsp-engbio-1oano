{
 "cells": [
  {
   "cell_type": "markdown",
   "metadata": {},
   "source": [
    "# Introdução à Programação\n",
    "\n",
    "## Componentes do Python"
   ]
  },
  {
   "cell_type": "markdown",
   "metadata": {},
   "source": [
    "# Um Programa Python"
   ]
  },
  {
   "cell_type": "code",
   "execution_count": 4,
   "metadata": {},
   "outputs": [
    {
     "name": "stdout",
     "output_type": "stream",
     "text": [
      "A area de um circulo com raio 11 eh 380.132711084365\n"
     ]
    }
   ],
   "source": [
    "# Listagem 1.1\n",
    "\n",
    "from math import pi\n",
    "r = 11\n",
    "area = pi * r ** 2\n",
    "print(\"A area de um circulo com raio\", r, \"eh\", area)"
   ]
  },
  {
   "cell_type": "code",
   "execution_count": 9,
   "metadata": {},
   "outputs": [
    {
     "name": "stdout",
     "output_type": "stream",
     "text": [
      "ab 4.5\n"
     ]
    }
   ],
   "source": [
    "soma = \"a\" + \"b\"\n",
    "f = 4.5\n",
    "print(soma, f)"
   ]
  },
  {
   "cell_type": "code",
   "execution_count": 10,
   "metadata": {},
   "outputs": [
    {
     "name": "stdout",
     "output_type": "stream",
     "text": [
      "True False\n"
     ]
    }
   ],
   "source": [
    "verd = True\n",
    "fals = False\n",
    "\n",
    "print(verd, fals)"
   ]
  },
  {
   "cell_type": "code",
   "execution_count": null,
   "metadata": {},
   "outputs": [],
   "source": [
    "# Listagem 2.1\n",
    "# Seu nome\n",
    "\n",
    "adjetivo = input(\"Entre com um adjetivo: \")\n",
    "substantivo = input(\"Entre com um substantivo: \")\n",
    "verbo = input(\"Entre com um verbo: \")\n",
    "adverbio = input(\"Entre com um adverbio: \")\n",
    "\n",
    "print(\"Um \", substantivo, adjetivo, \" nunca deveria \", verbo, adverbio )"
   ]
  },
  {
   "cell_type": "markdown",
   "metadata": {},
   "source": [
    "# Variáveis\n",
    "\n"
   ]
  },
  {
   "cell_type": "markdown",
   "metadata": {},
   "source": [
    "# Comando de atribuição\n",
    "\n"
   ]
  },
  {
   "cell_type": "markdown",
   "metadata": {},
   "source": [
    "# Comandos de Impressão\n",
    "\n"
   ]
  },
  {
   "cell_type": "markdown",
   "metadata": {},
   "source": [
    "# Comandos de Importação\n",
    "\n"
   ]
  },
  {
   "cell_type": "markdown",
   "metadata": {},
   "source": [
    "# Tipos de Dados\n",
    "\n",
    "## Strings\n",
    "\n",
    "  => \"Hello\", \"World\"\n",
    "\n",
    "## Integers\n",
    "\n",
    "  => 5,6,7,7,8,8\n",
    "\n",
    "\n",
    "## Floats\n",
    "\n",
    "  => 5.4, 5.234, 5.0"
   ]
  },
  {
   "cell_type": "markdown",
   "metadata": {},
   "source": [
    "# Expressões\n",
    "\n",
    "\n",
    "## Expressões de Entrada\n",
    "\n",
    "\n",
    "## Expressões Numéricas\n",
    "\n",
    "\n",
    "## Comentários"
   ]
  },
  {
   "cell_type": "markdown",
   "metadata": {},
   "source": [
    "# Exercícios\n",
    "\n",
    "\n",
    "2.1. Dê tres nomes que não são nomes de identificadores legais em Python\n",
    "\n",
    "\n",
    "2.2. Use a Listagem 1.1 para:\n",
    "\n",
    "(a) Listar cada variável e dar o tipo de dados armazenado nela. (Dica: pi é uma variável)\n",
    "\n",
    "\n",
    "(b) Identificar os comandos de atribuição e explicar o efeito de cada\n",
    "\n",
    "\n",
    "2.3 Determinar a saida da Listagem 1.1 se o comando `print()` for alterado para:\n",
    "\n",
    "`print(\"A area do circulo com raio r eh area\")`\n",
    "\n",
    "Explique o resultado\n",
    "\n",
    "\n",
    "2.4 Use a Listagem 2.1 para:\n",
    "\n",
    "(a) Listar cada comando de atribuição e identificar a variável cujo conteúdo mudam\n",
    "\n",
    "(b) Descrever o que acontece se o espaço final em qualquer dos comandos de entrada for deletado\n",
    "\n",
    "\n",
    "2.5 Determinar o valor de cada uma dessas expressões Python:\n",
    "\n",
    "(a) 1 + 2 * 3 - 4 * 5 + 6\n",
    "\n",
    "\n",
    "(b) 1 + 2 ** 3 * 4 - 5\n",
    "\n",
    "\n",
    "(c) 1 / 2 - 3 / 4\n",
    "\n",
    "\n",
    "(d) 1 // 2 - 3 // 4 + 5 // 6\n",
    "\n",
    "\n",
    "(e) 1 + 4 - 2 / 2\n",
    "\n",
    "\n",
    "(f) (1 + 4 - 2) / 2"
   ]
  },
  {
   "cell_type": "code",
   "execution_count": null,
   "metadata": {},
   "outputs": [],
   "source": []
  }
 ],
 "metadata": {
  "kernelspec": {
   "display_name": "Python 3",
   "language": "python",
   "name": "python3"
  },
  "language_info": {
   "codemirror_mode": {
    "name": "ipython",
    "version": 3
   },
   "file_extension": ".py",
   "mimetype": "text/x-python",
   "name": "python",
   "nbconvert_exporter": "python",
   "pygments_lexer": "ipython3",
   "version": "3.6.4"
  }
 },
 "nbformat": 4,
 "nbformat_minor": 2
}
