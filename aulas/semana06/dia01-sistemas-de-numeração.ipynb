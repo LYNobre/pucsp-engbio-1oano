{
 "cells": [
  {
   "cell_type": "markdown",
   "metadata": {},
   "source": [
    "# Introdução à Programação\n",
    "\n",
    "## Sistemas de Numeração"
   ]
  },
  {
   "cell_type": "markdown",
   "metadata": {},
   "source": [
    "## Bits e Bytes\n",
    "\n",
    "### O que é um bit?\n",
    "\n",
    "É a menor unidadade de informação, que armazena dois valores\n",
    "\n",
    "Um grupo de 8 bits é chamado de byte"
   ]
  },
  {
   "cell_type": "markdown",
   "metadata": {},
   "source": [
    "## Números Binários\n",
    "\n",
    "Podemos interpretar os bits como 0's e 1's. No entanto, esses números devem ser interpretados como sendo da base 2."
   ]
  },
  {
   "cell_type": "markdown",
   "metadata": {},
   "source": [
    "## Números Hexadecimais\n",
    "\n",
    "Hexadecimais possuem base 16. E funcionam da mesma maneira que os decimais, exceto que possuem mais símbolos para serem representados. Então, A = 10; B = 11; C = 12; D = 13; E = 14; F = 15."
   ]
  },
  {
   "cell_type": "markdown",
   "metadata": {},
   "source": [
    "## Funções pré-definidas\n",
    "\n",
    "Python tem funções pré-definidas para tratarem números binários e hexadecimais\n",
    "\n",
    "```\n",
    "bin(n)\n",
    "hex(n)\n",
    "```"
   ]
  },
  {
   "cell_type": "markdown",
   "metadata": {},
   "source": [
    "## Armazenando Inteiros\n",
    "\n",
    "Quando descrevemos um computador como sendo de '32 bits' ou de '64 bits' nos referimos ao tamanho básico da memória utilizada pela CPU. Geralmente, isso também nos fornece o tamanho da memória para armazenar inteiros.\n",
    "\n",
    "**Inteiros sem sinal** (em inglês, esses números são chamados de *Unsigned Integers*) são sempre maiores que zero e são armazenados em binário\n",
    "\n",
    "**Inteiros com sinal** (em inglês, esses números são chamados de *Signed Integers*) podem ser positivos ou negativos e requerem uma representação mais complicada."
   ]
  },
  {
   "cell_type": "markdown",
   "metadata": {},
   "source": [
    "## Exercícios\n",
    "\n",
    "5.6 Dê o valor destas expressões em Python:\n",
    "\n",
    "(a) `hex(25)`\n",
    "\n",
    "(b) `bin(35)`\n",
    "\n",
    "(c) `int(\"0x1C\", 16)`\n",
    "\n",
    "(d) `int(\"0b10101\", 2)`\n",
    "\n",
    "(e) `hex(25)`\n",
    "\n",
    "(f) `hex(25)`\n",
    "\n",
    "\n",
    "5.7 Mostre como cada um destes números é armazenado como um inteiro sem sinal em um byte. Escreva tanto a forma binária quanto à decimal. \n",
    "\n",
    "(a) $87$\n",
    "\n",
    "(b) $195$\n",
    "\n",
    "(c) $18$\n",
    "\n",
    "(d) $119$\n",
    "\n",
    "(e) $93$\n",
    "\n",
    "(f) $234$\n",
    "\n",
    "\n",
    "5.8 Converta estes inteiros binários sem sinal para a forma decimal e hexadecimal.\n",
    "\n",
    "(a) $0b10010011$\n",
    "\n",
    "(b) $0b00101101$\n",
    "\n",
    "(c) $0b01001011$\n",
    "\n",
    "(d) $0b10011110$\n",
    "\n",
    "(e) $0b01011100$\n",
    "\n",
    "(f) $0b11000001$\n",
    "\n",
    "\n",
    "5.9 Converta estes inteiros hexadecimais para binário e decimal.\n",
    "\n",
    "(a) $0x7D$\n",
    "\n",
    "(b) $0xA1$\n",
    "\n",
    "(c) $0x59$\n",
    "\n",
    "(d) $0xBC$\n",
    "\n",
    "(e) $0x96$\n",
    "\n",
    "(f) $0x04$\n",
    "\n",
    "\n",
    "5.10 Escreva um programa curto `binhex.py` que imprime uma tabela de valores binários e hexadecimais para os inteiros (decimais) de $1$ a $100$. Não é necessário nenhuma função além do `main()`."
   ]
  },
  {
   "cell_type": "code",
   "execution_count": null,
   "metadata": {},
   "outputs": [],
   "source": []
  }
 ],
 "metadata": {
  "kernelspec": {
   "display_name": "Python 3",
   "language": "python",
   "name": "python3"
  },
  "language_info": {
   "codemirror_mode": {
    "name": "ipython",
    "version": 3
   },
   "file_extension": ".py",
   "mimetype": "text/x-python",
   "name": "python",
   "nbconvert_exporter": "python",
   "pygments_lexer": "ipython3",
   "version": "3.6.4"
  }
 },
 "nbformat": 4,
 "nbformat_minor": 2
}
