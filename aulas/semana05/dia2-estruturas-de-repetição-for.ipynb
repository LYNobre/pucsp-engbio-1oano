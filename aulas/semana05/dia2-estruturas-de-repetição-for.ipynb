{
 "cells": [
  {
   "cell_type": "markdown",
   "metadata": {},
   "source": [
    "# Introdução à Programação\n",
    "\n",
    "\n",
    "## Estruturas de Repetição: FOR"
   ]
  },
  {
   "cell_type": "markdown",
   "metadata": {},
   "source": [
    "### Continuação dos exercícios"
   ]
  },
  {
   "cell_type": "markdown",
   "metadata": {},
   "source": [
    "4.9 Escreva uma programa template.py que imprime uma tabela de conversão de Farenheit para Celsius para temperaturas entre -30 graus F e 100 graus F com um intervalo de 10. Use uma função de conversão\n",
    "\n",
    "\n",
    "4.10 Escreva um programa disttable.py que imprime uma tabela de conversão de milhas para quilômetros para distâncias entre 100 e 150 milhas, com intervalo de 100 milhas. Escreva uma função que faça a conversão\n",
    "\n",
    "\n",
    "4.16 Defina uma função triangular(n) que retorne a soma 1 + 2 + 3 + ... + n. Então escreva um programa triangular.py que imprime uma tabela de valores de triangular(n) para n = 1,2,3,...,20."
   ]
  }
 ],
 "metadata": {
  "kernelspec": {
   "display_name": "Python 3",
   "language": "python",
   "name": "python3"
  },
  "language_info": {
   "codemirror_mode": {
    "name": "ipython",
    "version": 3
   },
   "file_extension": ".py",
   "mimetype": "text/x-python",
   "name": "python",
   "nbconvert_exporter": "python",
   "pygments_lexer": "ipython3",
   "version": "3.6.4"
  }
 },
 "nbformat": 4,
 "nbformat_minor": 2
}
